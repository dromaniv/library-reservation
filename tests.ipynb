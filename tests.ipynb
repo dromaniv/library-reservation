{
 "cells": [
  {
   "cell_type": "code",
   "execution_count": 1,
   "metadata": {},
   "outputs": [],
   "source": [
    "from cassandra_client import CassandraClient\n",
    "import uuid\n",
    "from datetime import datetime\n",
    "import random\n",
    "import threading\n",
    "\n",
    "client = CassandraClient()"
   ]
  },
  {
   "cell_type": "code",
   "execution_count": 3,
   "metadata": {},
   "outputs": [
    {
     "ename": "KeyboardInterrupt",
     "evalue": "",
     "output_type": "error",
     "traceback": [
      "\u001b[1;31m---------------------------------------------------------------------------\u001b[0m",
      "\u001b[1;31mKeyboardInterrupt\u001b[0m                         Traceback (most recent call last)",
      "Cell \u001b[1;32mIn[3], line 17\u001b[0m\n\u001b[0;32m     15\u001b[0m user_id \u001b[38;5;241m=\u001b[39m uuid\u001b[38;5;241m.\u001b[39muuid4()\n\u001b[0;32m     16\u001b[0m book_id \u001b[38;5;241m=\u001b[39m uuid\u001b[38;5;241m.\u001b[39mUUID(\u001b[38;5;124m'\u001b[39m\u001b[38;5;124m79ec2f3d-8c09-4b7f-91ca-c7b8d0b27989\u001b[39m\u001b[38;5;124m'\u001b[39m)\n\u001b[1;32m---> 17\u001b[0m \u001b[43mstress_test_1\u001b[49m\u001b[43m(\u001b[49m\u001b[43mclient\u001b[49m\u001b[43m,\u001b[49m\u001b[43m \u001b[49m\u001b[43muser_id\u001b[49m\u001b[43m,\u001b[49m\u001b[43m \u001b[49m\u001b[43mbook_id\u001b[49m\u001b[43m)\u001b[49m\n",
      "Cell \u001b[1;32mIn[3], line 5\u001b[0m, in \u001b[0;36mstress_test_1\u001b[1;34m(client, user_id, book_id, repetitions)\u001b[0m\n\u001b[0;32m      3\u001b[0m reservation_ids \u001b[38;5;241m=\u001b[39m []\n\u001b[0;32m      4\u001b[0m \u001b[38;5;28;01mfor\u001b[39;00m i \u001b[38;5;129;01min\u001b[39;00m \u001b[38;5;28mrange\u001b[39m(repetitions):\n\u001b[1;32m----> 5\u001b[0m     reservation_id \u001b[38;5;241m=\u001b[39m \u001b[43mclient\u001b[49m\u001b[38;5;241;43m.\u001b[39;49m\u001b[43mmake_reservation\u001b[49m\u001b[43m(\u001b[49m\u001b[43muser_id\u001b[49m\u001b[43m,\u001b[49m\u001b[43m \u001b[49m\u001b[43mbook_id\u001b[49m\u001b[43m)\u001b[49m\n\u001b[0;32m      6\u001b[0m     \u001b[38;5;28;01mif\u001b[39;00m reservation_id:\n\u001b[0;32m      7\u001b[0m         reservation_ids\u001b[38;5;241m.\u001b[39mappend(reservation_id)\n",
      "File \u001b[1;32mc:\\Users\\Uni\\Documents\\Uni\\sem6\\BG\\library-reservation\\cassandra_client.py:30\u001b[0m, in \u001b[0;36mCassandraClient.make_reservation\u001b[1;34m(self, user_id, book_id)\u001b[0m\n\u001b[0;32m     29\u001b[0m \u001b[38;5;28;01mdef\u001b[39;00m \u001b[38;5;21mmake_reservation\u001b[39m(\u001b[38;5;28mself\u001b[39m, user_id, book_id):\n\u001b[1;32m---> 30\u001b[0m     \u001b[38;5;28;01mif\u001b[39;00m \u001b[38;5;129;01mnot\u001b[39;00m \u001b[38;5;28;43mself\u001b[39;49m\u001b[38;5;241;43m.\u001b[39;49m\u001b[43mbook_exists\u001b[49m\u001b[43m(\u001b[49m\u001b[43mbook_id\u001b[49m\u001b[43m)\u001b[49m:\n\u001b[0;32m     31\u001b[0m         \u001b[38;5;66;03m# print(f\"Book {book_id} does not exist.\")\u001b[39;00m\n\u001b[0;32m     32\u001b[0m         \u001b[38;5;28;01mreturn\u001b[39;00m \u001b[38;5;28;01mNone\u001b[39;00m  \u001b[38;5;66;03m# Book does not exist\u001b[39;00m\n\u001b[0;32m     34\u001b[0m     \u001b[38;5;28;01mif\u001b[39;00m \u001b[38;5;28mself\u001b[39m\u001b[38;5;241m.\u001b[39mis_book_reserved(book_id):\n\u001b[0;32m     35\u001b[0m         \u001b[38;5;66;03m# print(f\"Book {book_id} is already reserved.\")\u001b[39;00m\n",
      "File \u001b[1;32mc:\\Users\\Uni\\Documents\\Uni\\sem6\\BG\\library-reservation\\cassandra_client.py:19\u001b[0m, in \u001b[0;36mCassandraClient.book_exists\u001b[1;34m(self, book_id)\u001b[0m\n\u001b[0;32m     15\u001b[0m \u001b[38;5;28;01mdef\u001b[39;00m \u001b[38;5;21mbook_exists\u001b[39m(\u001b[38;5;28mself\u001b[39m, book_id):\n\u001b[0;32m     16\u001b[0m     query \u001b[38;5;241m=\u001b[39m SimpleStatement(\n\u001b[0;32m     17\u001b[0m         \u001b[38;5;124m\"\u001b[39m\u001b[38;5;124mSELECT id FROM books WHERE id=\u001b[39m\u001b[38;5;132;01m%s\u001b[39;00m\u001b[38;5;124m\"\u001b[39m\n\u001b[0;32m     18\u001b[0m     )\n\u001b[1;32m---> 19\u001b[0m     result \u001b[38;5;241m=\u001b[39m \u001b[38;5;28;43mself\u001b[39;49m\u001b[38;5;241;43m.\u001b[39;49m\u001b[43msession\u001b[49m\u001b[38;5;241;43m.\u001b[39;49m\u001b[43mexecute\u001b[49m\u001b[43m(\u001b[49m\u001b[43mquery\u001b[49m\u001b[43m,\u001b[49m\u001b[43m \u001b[49m\u001b[43m(\u001b[49m\u001b[43mbook_id\u001b[49m\u001b[43m,\u001b[49m\u001b[43m)\u001b[49m\u001b[43m)\u001b[49m\n\u001b[0;32m     20\u001b[0m     \u001b[38;5;28;01mreturn\u001b[39;00m result\u001b[38;5;241m.\u001b[39mone() \u001b[38;5;129;01mis\u001b[39;00m \u001b[38;5;129;01mnot\u001b[39;00m \u001b[38;5;28;01mNone\u001b[39;00m\n",
      "File \u001b[1;32mc:\\Users\\Uni\\AppData\\Local\\Programs\\Python\\Python311\\Lib\\site-packages\\cassandra\\cluster.py:2677\u001b[0m, in \u001b[0;36mcassandra.cluster.Session.execute\u001b[1;34m()\u001b[0m\n",
      "File \u001b[1;32mc:\\Users\\Uni\\AppData\\Local\\Programs\\Python\\Python311\\Lib\\site-packages\\cassandra\\cluster.py:4952\u001b[0m, in \u001b[0;36mcassandra.cluster.ResponseFuture.result\u001b[1;34m()\u001b[0m\n",
      "File \u001b[1;32mc:\\Users\\Uni\\AppData\\Local\\Programs\\Python\\Python311\\Lib\\threading.py:622\u001b[0m, in \u001b[0;36mEvent.wait\u001b[1;34m(self, timeout)\u001b[0m\n\u001b[0;32m    620\u001b[0m signaled \u001b[38;5;241m=\u001b[39m \u001b[38;5;28mself\u001b[39m\u001b[38;5;241m.\u001b[39m_flag\n\u001b[0;32m    621\u001b[0m \u001b[38;5;28;01mif\u001b[39;00m \u001b[38;5;129;01mnot\u001b[39;00m signaled:\n\u001b[1;32m--> 622\u001b[0m     signaled \u001b[38;5;241m=\u001b[39m \u001b[38;5;28;43mself\u001b[39;49m\u001b[38;5;241;43m.\u001b[39;49m\u001b[43m_cond\u001b[49m\u001b[38;5;241;43m.\u001b[39;49m\u001b[43mwait\u001b[49m\u001b[43m(\u001b[49m\u001b[43mtimeout\u001b[49m\u001b[43m)\u001b[49m\n\u001b[0;32m    623\u001b[0m \u001b[38;5;28;01mreturn\u001b[39;00m signaled\n",
      "File \u001b[1;32mc:\\Users\\Uni\\AppData\\Local\\Programs\\Python\\Python311\\Lib\\threading.py:320\u001b[0m, in \u001b[0;36mCondition.wait\u001b[1;34m(self, timeout)\u001b[0m\n\u001b[0;32m    318\u001b[0m \u001b[38;5;28;01mtry\u001b[39;00m:    \u001b[38;5;66;03m# restore state no matter what (e.g., KeyboardInterrupt)\u001b[39;00m\n\u001b[0;32m    319\u001b[0m     \u001b[38;5;28;01mif\u001b[39;00m timeout \u001b[38;5;129;01mis\u001b[39;00m \u001b[38;5;28;01mNone\u001b[39;00m:\n\u001b[1;32m--> 320\u001b[0m         \u001b[43mwaiter\u001b[49m\u001b[38;5;241;43m.\u001b[39;49m\u001b[43macquire\u001b[49m\u001b[43m(\u001b[49m\u001b[43m)\u001b[49m\n\u001b[0;32m    321\u001b[0m         gotit \u001b[38;5;241m=\u001b[39m \u001b[38;5;28;01mTrue\u001b[39;00m\n\u001b[0;32m    322\u001b[0m     \u001b[38;5;28;01melse\u001b[39;00m:\n",
      "\u001b[1;31mKeyboardInterrupt\u001b[0m: "
     ]
    }
   ],
   "source": [
    "def stress_test_1(client, user_id, book_id, repetitions=10000):\n",
    "    \"\"\"The client makes the same request very quickly min (10000 times).\"\"\"\n",
    "    reservation_ids = []\n",
    "    for i in range(repetitions):\n",
    "        reservation_id = client.make_reservation(user_id, book_id)\n",
    "        if reservation_id:\n",
    "            reservation_ids.append(reservation_id)\n",
    "        #     print(f\"Iteration {i+1}: Created reservation with ID {reservation_id}\")\n",
    "        # else:\n",
    "        #     print(f\"Iteration {i+1}: Failed to create reservation, book already reserved or does not exist.\")\n",
    "        if i % 100 == 0:\n",
    "            print(f\"Iteration {i+1}\")\n",
    "    print(f\"Created {len(reservation_ids)} reservations in total\")\n",
    "\n",
    "client = CassandraClient()\n",
    "client.delete_all_reservations()\n",
    "user_id = uuid.uuid4()\n",
    "book_id = uuid.UUID('79ec2f3d-8c09-4b7f-91ca-c7b8d0b27989')\n",
    "stress_test_1(client, user_id, book_id)"
   ]
  },
  {
   "cell_type": "code",
   "execution_count": 14,
   "metadata": {},
   "outputs": [
    {
     "name": "stdout",
     "output_type": "stream",
     "text": [
      "Started thread 1\n",
      "Started thread 2\n",
      "Started thread 3\n",
      "Started thread 4\n",
      "Started thread 5\n",
      "Started thread 6\n",
      "Started thread 7\n",
      "Started thread 8\n",
      "Started thread 9\n",
      "Started thread 10\n",
      "Created reservation for user aced1c2e-9faf-477a-9819-242b1f5e4d9e and book 3862d1c6-db92-4988-9db4-f46f10a96ae8 with reservation ID None\n",
      "Created reservation for user b1617203-82be-4e4c-9018-09d62ea5236b and book 3862d1c6-db92-4988-9db4-f46f10a96ae8 with reservation ID None\n",
      "Created reservation for user 5eddfa6a-2e74-4b2b-8bd1-fa35cc62153c and book 3dfba87a-972f-4381-973e-691e9c25f3b8 with reservation ID None\n",
      "Created reservation for user aced1c2e-9faf-477a-9819-242b1f5e4d9e and book ca8d3f7f-7e51-4d15-9204-25c803c28316 with reservation ID None\n",
      "Created reservation for user a86c7f07-9e2c-450f-b693-b21f7baca439 and book 3dfba87a-972f-4381-973e-691e9c25f3b8 with reservation ID None\n",
      "Created reservation for user a86c7f07-9e2c-450f-b693-b21f7baca439 and book 3dfba87a-972f-4381-973e-691e9c25f3b8 with reservation ID None\n",
      "Created reservation for user 5eddfa6a-2e74-4b2b-8bd1-fa35cc62153c and book ca8d3f7f-7e51-4d15-9204-25c803c28316 with reservation ID None\n",
      "Created reservation for user 5eddfa6a-2e74-4b2b-8bd1-fa35cc62153c and book 3dfba87a-972f-4381-973e-691e9c25f3b8 with reservation ID None\n",
      "Created reservation for user a86c7f07-9e2c-450f-b693-b21f7baca439 and book dd26cf5e-64c0-4425-9106-c059fff46715 with reservation ID None\n",
      "Created reservation for user 5eddfa6a-2e74-4b2b-8bd1-fa35cc62153c and book dd26cf5e-64c0-4425-9106-c059fff46715 with reservation ID None\n",
      "Completed 10 random reservations\n"
     ]
    }
   ],
   "source": [
    "def stress_test_2(client, user_ids, book_ids, repetitions=10):\n",
    "    \"\"\"Two or more clients make the possible requests randomly (10000 times).\"\"\"\n",
    "    def make_random_request():\n",
    "        user_id = random.choice(user_ids)\n",
    "        book_id = random.choice(book_ids)\n",
    "        reservation_id = client.make_reservation(user_id, book_id)\n",
    "        print(f\"Created reservation for user {user_id} and book {book_id} with reservation ID {reservation_id}\")\n",
    "\n",
    "    threads = []\n",
    "    for i in range(repetitions):\n",
    "        t = threading.Thread(target=make_random_request)\n",
    "        t.start()\n",
    "        threads.append(t)\n",
    "        print(f\"Started thread {i+1}\")\n",
    "\n",
    "    for t in threads:\n",
    "        t.join()\n",
    "\n",
    "    print(f\"Completed {repetitions} random reservations\")\n",
    "\n",
    "client.delete_all_reservations()\n",
    "user_ids = [uuid.uuid4() for _ in range(5)]\n",
    "book_ids = [uuid.uuid4() for _ in range(5)]\n",
    "stress_test_2(client, user_ids, book_ids)"
   ]
  },
  {
   "cell_type": "code",
   "execution_count": 15,
   "metadata": {},
   "outputs": [
    {
     "name": "stdout",
     "output_type": "stream",
     "text": [
      "Both threads started\n",
      "User 4b969566-6d20-4108-97b7-b280a48403a2 made reservation 1 with ID None\n",
      "User 45692357-539f-410f-a93e-1cc848bd8664 made reservation 1 with ID None\n",
      "User 4b969566-6d20-4108-97b7-b280a48403a2 made reservation 2 with ID None\n",
      "User 45692357-539f-410f-a93e-1cc848bd8664 made reservation 2 with ID None\n",
      "User 4b969566-6d20-4108-97b7-b280a48403a2 made reservation 3 with ID None\n",
      "User 45692357-539f-410f-a93e-1cc848bd8664 made reservation 3 with ID None\n",
      "User 45692357-539f-410f-a93e-1cc848bd8664 made reservation 4 with ID None\n",
      "User 4b969566-6d20-4108-97b7-b280a48403a2 made reservation 4 with ID None\n",
      "User 4b969566-6d20-4108-97b7-b280a48403a2 made reservation 5 with ID None\n",
      "User 45692357-539f-410f-a93e-1cc848bd8664 made reservation 5 with ID None\n",
      "User 45692357-539f-410f-a93e-1cc848bd8664 made reservation 6 with ID None\n",
      "User 4b969566-6d20-4108-97b7-b280a48403a2 made reservation 6 with ID None\n",
      "User 4b969566-6d20-4108-97b7-b280a48403a2 made reservation 7 with ID None\n",
      "User 45692357-539f-410f-a93e-1cc848bd8664 made reservation 7 with ID None\n",
      "User 45692357-539f-410f-a93e-1cc848bd8664 made reservation 8 with ID None\n",
      "User 4b969566-6d20-4108-97b7-b280a48403a2 made reservation 8 with ID None\n",
      "User 4b969566-6d20-4108-97b7-b280a48403a2 made reservation 9 with ID None\n",
      "User 45692357-539f-410f-a93e-1cc848bd8664 made reservation 9 with ID None\n",
      "User 45692357-539f-410f-a93e-1cc848bd8664 made reservation 10 with ID None\n",
      "User 4b969566-6d20-4108-97b7-b280a48403a2 made reservation 10 with ID None\n",
      "Both threads completed\n",
      "All reservations deleted\n"
     ]
    }
   ],
   "source": [
    "def stress_test_3(client, user_id_1, user_id_2, book_id, repetitions=10):\n",
    "    \"\"\"Immediate occupancy of all seats/reservations by 2 clients.\"\"\"\n",
    "    def make_reservations(user_id):\n",
    "        for i in range(repetitions):\n",
    "            reservation_id = client.make_reservation(user_id, book_id)\n",
    "            print(f\"User {user_id} made reservation {i+1} with ID {reservation_id}\")\n",
    "\n",
    "    t1 = threading.Thread(target=make_reservations, args=(user_id_1,))\n",
    "    t2 = threading.Thread(target=make_reservations, args=(user_id_2,))\n",
    "\n",
    "    t1.start()\n",
    "    t2.start()\n",
    "    print(\"Both threads started\")\n",
    "\n",
    "    t1.join()\n",
    "    t2.join()\n",
    "    print(\"Both threads completed\")\n",
    "\n",
    "client.delete_all_reservations()\n",
    "user_id_1 = uuid.uuid4()\n",
    "user_id_2 = uuid.uuid4()\n",
    "book_id = uuid.uuid4()\n",
    "stress_test_3(client, user_id_1, user_id_2, book_id)\n",
    "print(\"All reservations deleted\")"
   ]
  },
  {
   "cell_type": "code",
   "execution_count": 16,
   "metadata": {},
   "outputs": [
    {
     "name": "stderr",
     "output_type": "stream",
     "text": [
      "Exception in thread Thread-42 (reserve_and_cancel):\n",
      "Traceback (most recent call last):\n",
      "  File \"c:\\Users\\Uni\\AppData\\Local\\Programs\\Python\\Python311\\Lib\\threading.py\", line 1038, in _bootstrap_inner\n",
      "    self.run()\n",
      "  File \"C:\\Users\\Uni\\AppData\\Roaming\\Python\\Python311\\site-packages\\ipykernel\\ipkernel.py\", line 766, in run_closure\n",
      "    _threading_Thread_run(self)\n",
      "  File \"c:\\Users\\Uni\\AppData\\Local\\Programs\\Python\\Python311\\Lib\\threading.py\", line 975, in run\n",
      "    self._target(*self._args, **self._kwargs)\n",
      "  File \"C:\\Users\\Uni\\AppData\\Local\\Temp\\ipykernel_19824\\2151454665.py\", line 7, in reserve_and_cancel\n",
      "  File \"c:\\Users\\Uni\\Documents\\Uni\\sem6\\BG\\library-reservation\\cassandra_client.py\", line 53, in cancel_reservation\n",
      "    self.session.execute(query, (reservation_id,))\n",
      "  File \"cassandra\\cluster.py\", line 2677, in cassandra.cluster.Session.execute\n",
      "  File \"cassandra\\cluster.py\", line 4956, in cassandra.cluster.ResponseFuture.result\n",
      "cassandra.InvalidRequest: Error from server: code=2200 [Invalid query] message=\"Invalid null value in condition for column id\"\n"
     ]
    },
    {
     "name": "stdout",
     "output_type": "stream",
     "text": [
      "Iteration 1: Created reservation with ID None\n",
      "Completed 10 reserve and cancel operations\n"
     ]
    }
   ],
   "source": [
    "def stress_test_4(client, user_id, book_id, repetitions=10):\n",
    "    \"\"\"Constant cancellations and seat occupancy for the same seat (10000 times).\"\"\"\n",
    "    def reserve_and_cancel():\n",
    "        for i in range(repetitions):\n",
    "            reservation_id = client.make_reservation(user_id, book_id)\n",
    "            print(f\"Iteration {i+1}: Created reservation with ID {reservation_id}\")\n",
    "            client.cancel_reservation(reservation_id)\n",
    "            print(f\"Iteration {i+1}: Cancelled reservation with ID {reservation_id}\")\n",
    "\n",
    "    t = threading.Thread(target=reserve_and_cancel)\n",
    "    t.start()\n",
    "    t.join()\n",
    "    print(f\"Completed {repetitions} reserve and cancel operations\")\n",
    "\n",
    "client.delete_all_reservations()\n",
    "user_id = uuid.uuid4()\n",
    "book_id = uuid.uuid4()\n",
    "stress_test_4(client, user_id, book_id)"
   ]
  },
  {
   "cell_type": "code",
   "execution_count": 17,
   "metadata": {},
   "outputs": [
    {
     "name": "stderr",
     "output_type": "stream",
     "text": [
      "Exception in thread Thread-43 (update_reservations):\n",
      "Traceback (most recent call last):\n",
      "  File \"c:\\Users\\Uni\\AppData\\Local\\Programs\\Python\\Python311\\Lib\\threading.py\", line 1038, in _bootstrap_inner\n",
      "    self.run()\n",
      "  File \"C:\\Users\\Uni\\AppData\\Roaming\\Python\\Python311\\site-packages\\ipykernel\\ipkernel.py\", line 766, in run_closure\n",
      "    _threading_Thread_run(self)\n",
      "  File \"c:\\Users\\Uni\\AppData\\Local\\Programs\\Python\\Python311\\Lib\\threading.py\", line 975, in run\n",
      "    self._target(*self._args, **self._kwargs)\n",
      "  File \"C:\\Users\\Uni\\AppData\\Local\\Temp\\ipykernel_19824\\1239074434.py\", line 9, in update_reservations\n",
      "  File \"c:\\Users\\Uni\\Documents\\Uni\\sem6\\BG\\library-reservation\\cassandra_client.py\", line 40, in update_reservation\n",
      "    self.session.execute(query, (new_date, reservation_id))\n",
      "  File \"cassandra\\cluster.py\", line 2677, in cassandra.cluster.Session.execute\n",
      "  File \"cassandra\\cluster.py\", line 4956, in cassandra.cluster.ResponseFuture.result\n",
      "cassandra.InvalidRequest: Error from server: code=2200 [Invalid query] message=\"Invalid null value in condition for column id\"\n"
     ]
    },
    {
     "name": "stdout",
     "output_type": "stream",
     "text": [
      "Created 10 reservations for update test\n",
      "Completed updates for 10 reservations\n"
     ]
    }
   ],
   "source": [
    "def stress_test_5(client, user_id, book_id, update_repetitions=10):\n",
    "    \"\"\"Update of 1000 reservations.\"\"\"\n",
    "    reservation_ids = [client.make_reservation(user_id, book_id) for _ in range(update_repetitions)]\n",
    "    print(f\"Created {len(reservation_ids)} reservations for update test\")\n",
    "\n",
    "    def update_reservations():\n",
    "        new_date = datetime.now()\n",
    "        for i, reservation_id in enumerate(reservation_ids):\n",
    "            client.update_reservation(reservation_id, new_date)\n",
    "            print(f\"Updated reservation {i+1} with ID {reservation_id} to new date {new_date}\")\n",
    "\n",
    "    t = threading.Thread(target=update_reservations)\n",
    "    t.start()\n",
    "    t.join()\n",
    "    print(f\"Completed updates for {update_repetitions} reservations\")\n",
    "\n",
    "client.delete_all_reservations()\n",
    "user_id = uuid.uuid4()\n",
    "book_id = uuid.uuid4()\n",
    "stress_test_5(client, user_id, book_id)"
   ]
  }
 ],
 "metadata": {
  "kernelspec": {
   "display_name": "Python 3",
   "language": "python",
   "name": "python3"
  },
  "language_info": {
   "codemirror_mode": {
    "name": "ipython",
    "version": 3
   },
   "file_extension": ".py",
   "mimetype": "text/x-python",
   "name": "python",
   "nbconvert_exporter": "python",
   "pygments_lexer": "ipython3",
   "version": "3.11.3"
  }
 },
 "nbformat": 4,
 "nbformat_minor": 2
}
